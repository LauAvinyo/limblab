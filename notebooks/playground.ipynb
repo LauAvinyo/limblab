{
 "cells": [
  {
   "cell_type": "code",
   "execution_count": 43,
   "metadata": {},
   "outputs": [],
   "source": [
    "from os import listdir\n",
    "from os.path import isfile, join\n",
    "\n",
    "import matplotlib.pyplot as matplt\n",
    "import numpy as np\n",
    "import vedo\n",
    "from vedo.applications import IsosurfaceBrowser\n",
    "\n",
    "from PIL import Image\n",
    "\n",
    "# Config\n",
    "vedo.settings.default_backend = 'vtk'\n",
    "vedo.settings.default_font = 'DejavuSansMono'"
   ]
  },
  {
   "cell_type": "code",
   "execution_count": 80,
   "metadata": {},
   "outputs": [
    {
     "data": {
      "text/plain": [
       "511"
      ]
     },
     "execution_count": 80,
     "metadata": {},
     "output_type": "execute_result"
    }
   ],
   "source": [
    "# Read the bmp files and get a numpy array\n",
    "\n",
    "\n",
    "# Get list of files\n",
    "DIRECTORY = './data/hoxa11/Hoxa11_ISH2_emb4_LHL/C2_UV/'\n",
    "EXTENSION = '.bmp'\n",
    "\n",
    "def key(x):\n",
    "    i = x.split('.')[0].split('rec')[1]\n",
    "    return int(i)\n",
    "\n",
    "\n",
    "from os import listdir\n",
    "from os.path import isfile, join\n",
    "files = [f for f in listdir(DIRECTORY) if isfile(join(DIRECTORY, f))]\n",
    "files = [f for f in files if f.endswith(EXTENSION) and '_spr' not in f]\n",
    "files = sorted(files, key=key)\n",
    "\n",
    "len(files)\n"
   ]
  },
  {
   "cell_type": "code",
   "execution_count": 81,
   "metadata": {},
   "outputs": [],
   "source": [
    "volume2 = np.zeros((512, 512, 511))\n",
    "for i, f in enumerate(files):\n",
    "    volume2[:, :, i] = np.array(Image.open(DIRECTORY + f))"
   ]
  },
  {
   "cell_type": "code",
   "execution_count": 86,
   "metadata": {},
   "outputs": [],
   "source": [
    "# Get list of files\n",
    "DIRECTORY = './data/hoxa11/Hoxa11_ISH2_emb4_LHL/C1_WH_IR/'\n",
    "EXTENSION = '.bmp'\n",
    "\n",
    "def key(x):\n",
    "    i = x.split('.')[0].split('rec')[1]\n",
    "    return int(i)\n",
    "\n",
    "\n",
    "from os import listdir\n",
    "from os.path import isfile, join\n",
    "files = [f for f in listdir(DIRECTORY) if isfile(join(DIRECTORY, f))]\n",
    "files = [f for f in files if f.endswith(EXTENSION) and '_spr' not in f]\n",
    "files = sorted(files, key=key)"
   ]
  },
  {
   "cell_type": "code",
   "execution_count": 87,
   "metadata": {},
   "outputs": [],
   "source": [
    "volume1 = np.zeros((512, 512, 511))\n",
    "for i, f in enumerate(files):\n",
    "    volume1[:, :, i] = np.array(Image.open(DIRECTORY + f))"
   ]
  },
  {
   "cell_type": "code",
   "execution_count": 88,
   "metadata": {},
   "outputs": [],
   "source": [
    "vol1 = vedo.Volume(volume1)\n",
    "vol2 = vedo.Volume(volume2)\n",
    "\n",
    "plt = vedo.Plotter()\n",
    "plt += vol1.isosurface()\n",
    "plt += vol2.isosurface()\n",
    "plt.show()\n",
    "plt.close()"
   ]
  },
  {
   "cell_type": "code",
   "execution_count": 89,
   "metadata": {},
   "outputs": [],
   "source": [
    "\n",
    "\n",
    "# IsosurfaceBrowser(Plotter) instance:\n",
    "plt = IsosurfaceBrowser(vol1, use_gpu=True, c='gold')\n",
    "\n",
    "plt.show(axes=7, bg2='lb').close()"
   ]
  },
  {
   "cell_type": "code",
   "execution_count": null,
   "metadata": {},
   "outputs": [],
   "source": []
  }
 ],
 "metadata": {
  "kernelspec": {
   "display_name": ".venv",
   "language": "python",
   "name": "python3"
  },
  "language_info": {
   "codemirror_mode": {
    "name": "ipython",
    "version": 3
   },
   "file_extension": ".py",
   "mimetype": "text/x-python",
   "name": "python",
   "nbconvert_exporter": "python",
   "pygments_lexer": "ipython3",
   "version": "3.9.6"
  },
  "orig_nbformat": 4
 },
 "nbformat": 4,
 "nbformat_minor": 2
}
