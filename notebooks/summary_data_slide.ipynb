{
 "cells": [
  {
   "cell_type": "code",
   "execution_count": 2,
   "metadata": {},
   "outputs": [],
   "source": [
    "from os import listdir\n",
    "from os.path import isfile, join\n",
    "\n",
    "# import matplotlib.pyplot as matplt\n",
    "import numpy as np\n",
    "import vedo\n",
    "from vedo.applications import IsosurfaceBrowser\n",
    "\n",
    "from PIL import Image\n",
    "\n",
    "# Config\n",
    "vedo.settings.default_backend = 'vtk'\n",
    "vedo.settings.default_font = 'DejavuSansMono'"
   ]
  },
  {
   "cell_type": "code",
   "execution_count": 3,
   "metadata": {},
   "outputs": [],
   "source": [
    "# Color palette:\n",
    "colors = {\n",
    "    \"background\": \"#282A35\",\n",
    "    \"line\": \"#44475a\",\n",
    "    \"foreground\": \"#f8f8f2\",\n",
    "    \"comment\": \"#6272a4\",\n",
    "    \"cyan\": \"#8be9fd\",\n",
    "    \"green\": \"#50fa7b\",\n",
    "    \"orange\": \"#ffb86c\",\n",
    "    \"pink\": \"#ff79c6\",\n",
    "    \"purple\": \"#bd93f9\",\n",
    "    \"red\": \"#ff5555\",\n",
    "    \"yellow\": \"#f1fa8c\",\n",
    "}"
   ]
  },
  {
   "cell_type": "code",
   "execution_count": 4,
   "metadata": {},
   "outputs": [],
   "source": [
    "EXC = '_spr'\n",
    "SEP = 'rec'\n",
    "EXT = '.bmp'"
   ]
  },
  {
   "cell_type": "code",
   "execution_count": 5,
   "metadata": {},
   "outputs": [],
   "source": [
    "def get_files(directory, exc, key):\n",
    "    files = [f for f in listdir(directory) if isfile(join(directory, f))]\n",
    "    files = [f for f in files if f.endswith(EXT) and exc not in f]\n",
    "    files = sorted(files, key=key)\n",
    "    return files\n",
    "\n",
    "def key(x):\n",
    "    i = x.split('.')[0].split(SEP)[1]\n",
    "    return int(i)\n",
    "\n",
    "\n",
    "def files_to_numpy_volume(directory, files, size):\n",
    "    volume = np.zeros(size)\n",
    "    for i, f in enumerate(files):\n",
    "        volume[:, :, i] = np.array(Image.open(directory + f))\n",
    "    return volume"
   ]
  },
  {
   "cell_type": "code",
   "execution_count": 6,
   "metadata": {},
   "outputs": [],
   "source": [
    "DIR = '../data/'\n",
    "metadata = [\n",
    "    {\n",
    "        'folder': 'Hoxa11/Hoxa11_ISH2_emb2a_LHL', \n",
    "        'c1': 'C1_WH_IR/',\n",
    "        'c2': 'C2_UV/',\n",
    "    },\n",
    "    # {\n",
    "    #     'folder': 'Hoxa11/Hoxa11_ISH2_emb4_LHL', \n",
    "    #     'c1': 'C1_WH_IR/',\n",
    "    #     'c2': 'C2_UV/',\n",
    "    # },\n",
    "    # {\n",
    "    #     'folder': 'Hoxa11/Hoxa11_M495_emb1_LHL', \n",
    "    #     'c1': 'C1_WH_IR/',\n",
    "    #     'c2': 'C2_UV/',\n",
    "    # },\n",
    "    # {\n",
    "    #     'folder': 'Hoxa11/Hoxa11_M692_emb4_LHL', \n",
    "    #     'c1': 'C1_WH_IR/',\n",
    "    #     'c2': 'C2_UV/',\n",
    "    # },\n",
    "    # {\n",
    "    #     'folder': 'Hoxa11/Hoxa11_M847_emb1_LHL', \n",
    "    #     'c1': 'C1_WH_IR/',\n",
    "    #     'c2': 'C2_UV/',\n",
    "    # },\n",
    "\n",
    "    # Hoxa13\n",
    "    {\n",
    "        'folder': 'Hoxa13/Hoxa13_ISH3_emb10_LHL', \n",
    "        'c1': 'C1_WH_IR/',\n",
    "        'c2': 'C2_UV/',\n",
    "    },\n",
    "    \n",
    "]"
   ]
  },
  {
   "cell_type": "code",
   "execution_count": 7,
   "metadata": {},
   "outputs": [],
   "source": [
    "for s in metadata:\n",
    "    if 'hoxa11' in s['folder']:\n",
    "        color = colors['red']\n",
    "    else:\n",
    "        color = colors['green']\n",
    "\n",
    "    # Get directories\n",
    "    dir = join(DIR, s['folder'])\n",
    "    c1_dir = join(dir, s['c1'])\n",
    "    c2_dir = join(dir, s['c2'])\n",
    "\n",
    "    # C1\n",
    "    files = get_files(c1_dir, EXC, key)\n",
    "    volume = files_to_numpy_volume(c1_dir, files, (512, 512, len(files)))\n",
    "    c1_vol = vedo.Volume(volume)\n",
    "\n",
    "    # C2\n",
    "    files = get_files(c2_dir, EXC, key)\n",
    "    volume = files_to_numpy_volume(c2_dir, files, (512, 512, len(files)))\n",
    "    c2_vol = vedo.Volume(volume)\n",
    "\n",
    "    # Plotting\n",
    "    plt = vedo.Plotter(bg=colors['background'])\n",
    "    plt += c1_vol.isosurface().c(color)\n",
    "    plt += c2_vol.isosurface().c(colors['yellow']).alpha(0.6)\n",
    "    plt.show()\n",
    "    plt.screenshot(f'./{s['folder']}.png')\n",
    "    plt.close()"
   ]
  },
  {
   "cell_type": "code",
   "execution_count": 23,
   "metadata": {},
   "outputs": [],
   "source": [
    "#"
   ]
  },
  {
   "cell_type": "code",
   "execution_count": null,
   "metadata": {},
   "outputs": [],
   "source": []
  }
 ],
 "metadata": {
  "kernelspec": {
   "display_name": ".venv",
   "language": "python",
   "name": "python3"
  },
  "language_info": {
   "codemirror_mode": {
    "name": "ipython",
    "version": 3
   },
   "file_extension": ".py",
   "mimetype": "text/x-python",
   "name": "python",
   "nbconvert_exporter": "python",
   "pygments_lexer": "ipython3",
   "version": "3.9.6"
  },
  "orig_nbformat": 4
 },
 "nbformat": 4,
 "nbformat_minor": 2
}
